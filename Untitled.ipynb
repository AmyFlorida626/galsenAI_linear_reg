{
 "cells": [
  {
   "cell_type": "markdown",
   "metadata": {},
   "source": [
    "# $ J(θ) = \\frac{1}{2N} \\sum_{i=1}^N \\Big( M(x^{(i)}) - y^{(i)} \\Big)^{2} $"
   ]
  },
  {
   "cell_type": "markdown",
   "metadata": {},
   "source": [
    "# $ \\frac{d}{dθ_{0}}J(θ_{0},θ_{1})  =  \\frac{d}{dθ_{0}}  \\bigg(\\frac{1}{2N}\\sum_{i=1}^N \\Big( M(x^{(i)}) - y^{(i)} \\Big)^{2} \\bigg)$"
   ]
  },
  {
   "cell_type": "markdown",
   "metadata": {},
   "source": [
    "# $\\frac{1}{2N}  \\sum_{i=1}^N  \\frac{d}{dθ_{0}} \\big( M(x^{(i)}) - y^{(i)} \\big)^{2}$"
   ]
  },
  {
   "cell_type": "markdown",
   "metadata": {},
   "source": [
    "# $\\frac{1}{2N}  \\sum_{i=1}^N 2\\Big( M(x^{(i)}) - y^{(i)} \\Big) \\frac{d}{dθ_{0}} \\Big( M(x^{(i)}) - y^{(i)} \\Big)$"
   ]
  },
  {
   "cell_type": "markdown",
   "metadata": {},
   "source": [
    "# $\\frac{1}{2N}  \\sum_{i=1}^N 2\\Big( M(x^{(i)}) - y^{(i)} \\Big) $"
   ]
  },
  {
   "cell_type": "markdown",
   "metadata": {},
   "source": [
    "# $\\frac{1}{N}  \\sum_{i=1}^N \\Big( M(x^{(i)}) - y^{(i)} \\Big) $\n"
   ]
  },
  {
   "cell_type": "code",
   "execution_count": null,
   "metadata": {},
   "outputs": [],
   "source": []
  }
 ],
 "metadata": {
  "kernelspec": {
   "display_name": "Python 3",
   "language": "python",
   "name": "python3"
  },
  "language_info": {
   "codemirror_mode": {
    "name": "ipython",
    "version": 3
   },
   "file_extension": ".py",
   "mimetype": "text/x-python",
   "name": "python",
   "nbconvert_exporter": "python",
   "pygments_lexer": "ipython3",
   "version": "3.6.5"
  }
 },
 "nbformat": 4,
 "nbformat_minor": 2
}
